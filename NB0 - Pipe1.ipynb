{
 "cells": [
  {
   "cell_type": "markdown",
   "metadata": {},
   "source": [
    "# Prelim Viz\n",
    "\n",
    "Run cd-hit, about the data, get FastTrees. \n",
    "_faire fonctionner `cd-hit`, à propos des données, obtiner `RapideAbre`._\n",
    "\n",
    "### About the data\n",
    "\n",
    "* Get distributions by continent/country over time (year), saved in `/figures`\n",
    "\n",
    "### cd-hit\n",
    "\n",
    "* For each country and year, if that country during that year has > 300 records, do cd-hit at `-c 1.0` to remove duplicates. \n",
    "* This means that if some country at some year, say, Siberia 2001, only has 10 records, 5 of which are duplicates, then nothing would be done. But that's only 4 records, so impact would be minimal. "
   ]
  },
  {
   "cell_type": "code",
   "execution_count": 1,
   "metadata": {},
   "outputs": [],
   "source": [
    "%matplotlib inline\n",
    "import matplotlib.pyplot as plt\n",
    "\n",
    "import numpy as np\n",
    "import pandas as pd\n",
    "import subprocess\n",
    "import os\n",
    "import json\n",
    "\n",
    "import xio\n",
    "import wrapomatic as wrp\n"
   ]
  },
  {
   "cell_type": "code",
   "execution_count": 2,
   "metadata": {},
   "outputs": [],
   "source": [
    "fn_in = \"d1_e_5806_msa.fas\"\n",
    "\n",
    "contents = xio.read_fasta(\"data/\"+fn_in, delimiter=\"|\", preview=0)\n",
    "fas_cols = [\"id\", \"host\", \"geoloc\", \"gtype\", \"cdate\"]\n",
    "d0 = pd.DataFrame(data=contents, columns=fas_cols+[\"seq\"])\n",
    "\n",
    "with open('data/cc_dict.json') as handle:\n",
    "    cc_dict = json.loads(handle.read())\n",
    "\n",
    "d0['continent'] = d0.apply(lambda row: xio.lookup_key(cc_dict, str(row[\"geoloc\"]).split(\"/\")[0]), axis=1)\n",
    "d0[\"country\"] = d0.apply(lambda row: str(row[\"geoloc\"]).split(\"/\")[0], axis=1)\n",
    "d0[\"cyear\"] = d0.apply(lambda row: str(row[\"cdate\"])[:4], axis=1)\n",
    "\n",
    "# Écrire csvs\n",
    "fn_out1 = fn_in[2:]+\"_e_cc_tbl.csv\"\n",
    "d1 = d0.groupby([\"continent\", \"cyear\"]).size().to_frame().reset_index()\n",
    "d1.columns = [[\"continent\", \"cyear\", \"counts\"]]\n",
    "d1 = d1.pivot(index=\"continent\", columns=\"cyear\", values=\"counts\").fillna(0)\n",
    "d1.to_csv(\"figures/\"+fn_out1)\n",
    "\n",
    "fn_out2 = fn_in[2:]+\"_e_cnty_tbl.csv\"\n",
    "d1 = d0.groupby([\"country\", \"cyear\"]).size().to_frame().reset_index()\n",
    "d1.columns = [[\"country\", \"cyear\", \"counts\"]]\n",
    "d1 = d1.pivot(index=\"country\", columns=\"cyear\", values=\"counts\").fillna(0)\n",
    "d1.to_csv(\"figures/\"+fn_out2)"
   ]
  },
  {
   "cell_type": "code",
   "execution_count": null,
   "metadata": {},
   "outputs": [],
   "source": [
    "cnty_ls = list(set(d0[\"country\"]))\n",
    "cyears_ls = list(set(d0[\"cyear\"]))\n",
    "cyears_ls.sort()\n",
    "\n",
    "print(\"Writing out initial temp files...\", end=\"\")\n",
    "for cnty in cnty_ls:\n",
    "    for cy in cyears_ls:\n",
    "        d_temp = d0.loc[(d0[\"country\"]==cnty) & (d0[\"cyear\"]==cy)]\n",
    "        fn_out = \"temp_\"+cnty+\"_\"+cy+\"_\"+str(len(d_temp))\n",
    "        \n",
    "        if len(d_temp) > 0:\n",
    "            xio.write_fasta(\"temp/\"+fn_out+\".fas\", d_temp, fas_cols, verbose=False)\n",
    "print(\"Done!\")\n",
    "\n",
    "# cd-hit if more than 300\n",
    "fn_ls = []\n",
    "for fn in os.listdir(\"/users/dten0001/Google Drive/Dengue-Singapore-paper/temp\"):\n",
    "    if fn[:4] == \"temp\":\n",
    "        fn_ls.append(fn)\n",
    "fn_ls.sort()\n",
    "\n",
    "fn_to_remove_ls = []\n",
    "for fn in fn_ls:\n",
    "    fn_prefix = fn.split(\".\")[0] # get rid of the '.fas'\n",
    "    ncounts = int(fn_prefix.split(\"_\")[-1])\n",
    "    if ncounts > 300:\n",
    "        fn_to_remove_ls.append(fn_prefix)\n",
    "        \n",
    "        cmd = \"cd-hit -i temp/\"+fn+\" -o temp/\"+fn_prefix+\"_cdh.fas -c 1.0\"\n",
    "        print(cmd)\n",
    "        subprocess.run(cmd, shell=True)\n",
    "        \n",
    "        n_records0 = fn_prefix.split(\"_\")[-1]\n",
    "        n_records1 = !grep -c \"^>\" temp/{fn_prefix}_cdh.fas\n",
    "        print(\"Reduced from %s to %s\" % (n_records0, n_records1[0]))\n",
    "\n",
    "# Remove unwanted files\n",
    "for fn_p in fn_to_remove_ls:\n",
    "    cmd = \"rm temp/\"+fn_p+\".fas\"\n",
    "    subprocess.run(cmd, shell=True)\n",
    "    \n",
    "    # retirer .clstr fichier\n",
    "    cmd = \"rm temp/\"+fn_p+\"_cdh.fas.clstr\"\n",
    "    subprocess.run(cmd, shell=True)\n",
    "    \n",
    "# cat the temp files\n",
    "cmd = \"cat temp/temp* > data/d1_cdh.fas\"\n",
    "subprocess.run(cmd, shell=True)\n",
    "print(\"Writing out final output file: d1_cdh.fas\")\n",
    "\n",
    "# Remove all the rest of the temp files\n",
    "for fn in os.listdir(\"/users/dten0001/Google Drive/Dengue-Singapore-paper/temp\"):\n",
    "    if fn[:4] == \"temp\":\n",
    "        cmd = \"rm temp/\"+fn"
   ]
  },
  {
   "cell_type": "code",
   "execution_count": 13,
   "metadata": {},
   "outputs": [
    {
     "name": "stdout",
     "output_type": "stream",
     "text": [
      "Writing out initial temp files...Done!\n",
      "cd-hit -i temp/temp_China_2014_360.fas -o temp/temp_China_2014_360_cdh.fas -c 1.0\n",
      "Reduced from 360 to 174\n",
      "cd-hit -i temp/temp_Singapore_2013_674.fas -o temp/temp_Singapore_2013_674_cdh.fas -c 1.0\n",
      "Reduced from 674 to 235\n",
      "cd-hit -i temp/temp_Singapore_2014_878.fas -o temp/temp_Singapore_2014_878_cdh.fas -c 1.0\n",
      "Reduced from 878 to 214\n",
      "cd-hit -i temp/temp_Vietnam_2007_351.fas -o temp/temp_Vietnam_2007_351_cdh.fas -c 1.0\n",
      "Reduced from 351 to 208\n",
      "cd-hit -i temp/temp_Vietnam_2008_335.fas -o temp/temp_Vietnam_2008_335_cdh.fas -c 1.0\n",
      "Reduced from 335 to 218\n",
      "Removing unwanted files...Done!\n",
      "Final no. of sequences = \n",
      "Wrote out final output to temp/d1_cdh.fas\n"
     ]
    }
   ],
   "source": [
    "wrp.spatiotemporal_subsample(d0, \"country\", \"cyear\", \n",
    "                             \"data/d1_cdh.fas\", \"temp/\", \n",
    "                             out_cols_ls=fas_cols,\n",
    "                             cdh_th=300)"
   ]
  },
  {
   "cell_type": "code",
   "execution_count": null,
   "metadata": {},
   "outputs": [],
   "source": []
  }
 ],
 "metadata": {
  "kernelspec": {
   "display_name": "Python 3",
   "language": "python",
   "name": "python3"
  },
  "language_info": {
   "codemirror_mode": {
    "name": "ipython",
    "version": 3
   },
   "file_extension": ".py",
   "mimetype": "text/x-python",
   "name": "python",
   "nbconvert_exporter": "python",
   "pygments_lexer": "ipython3",
   "version": "3.6.3"
  }
 },
 "nbformat": 4,
 "nbformat_minor": 2
}
